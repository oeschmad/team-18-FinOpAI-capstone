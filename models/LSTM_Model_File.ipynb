{
 "cells": [
  {
   "cell_type": "code",
   "execution_count": null,
   "id": "87f31a62-d6c1-41f4-a1d7-3a733e0171d8",
   "metadata": {},
   "outputs": [],
   "source": [
    "import yfinance as yf\n",
    "import pandas as pd\n",
    "import numpy as np\n",
    "from datetime import datetime\n",
    "from sklearn.preprocessing import MinMaxScaler\n",
    "from tensorflow.keras.models import Sequential\n",
    "from tensorflow.keras.layers import LSTM, Dense, Dropout\n",
    "import matplotlib.pyplot as plt"
   ]
  },
  {
   "cell_type": "code",
   "execution_count": 2,
   "id": "694c9179-2255-46ba-9d98-2dc6a5679f9f",
   "metadata": {},
   "outputs": [],
   "source": [
    "train_start = \"2021-01-01\"\n",
    "train_end = \"2023-12-31\"\n",
    "test_start = \"2024-01-01\"\n",
    "test_end = \"2024-12-31\"\n",
    "forecast_start = \"2025-01-01\"\n",
    "current_date = datetime.today().strftime('%Y-%m-%d')"
   ]
  },
  {
   "cell_type": "code",
   "execution_count": 3,
   "id": "fdf78ae1-ac4a-4595-ac0e-68a1500e2000",
   "metadata": {},
   "outputs": [
    {
     "name": "stdout",
     "output_type": "stream",
     "text": [
      "Selected tickers for demo: ['AAPL', 'MSFT', 'AMZN', 'GOOGL', 'NVDA']\n"
     ]
    }
   ],
   "source": [
    "tickers = ['AAPL', 'MSFT', 'AMZN', 'GOOGL', 'NVDA']\n",
    "print(f\"Selected tickers for demo: {tickers}\")"
   ]
  },
  {
   "cell_type": "markdown",
   "id": "d99c2aae-7ab8-4c3f-b6cb-a90c725bdfd2",
   "metadata": {},
   "source": [
    "# Define function to fetch stock data"
   ]
  },
  {
   "cell_type": "code",
   "execution_count": 4,
   "id": "1d844409-dde0-415f-b561-ab7be684fdb7",
   "metadata": {},
   "outputs": [],
   "source": [
    "def fetch_stock_data(ticker, start, end):\n",
    "    \"\"\"\n",
    "    Fetch historical stock data from Yahoo Finance.\n",
    "    Args:\n",
    "        ticker (str): Stock symbol\n",
    "        start (str): Start date\n",
    "        end (str): End date\n",
    "    Returns:\n",
    "        pd.DataFrame: Data with Date, Ticker, Open, High, Low, Close, Volume\n",
    "    \"\"\"\n",
    "    try:\n",
    "        df = yf.download(ticker, start=start, end=end, progress=False, auto_adjust=True)\n",
    "        if df.empty:\n",
    "            print(f\"No data found for {ticker} in {start} to {end}\")\n",
    "            return None\n",
    "        df = df.reset_index()\n",
    "        df['Ticker'] = ticker\n",
    "        df['Date'] = df['Date'].dt.strftime('%Y-%m-%d')\n",
    "        return df[['Date', 'Ticker', 'Open', 'High', 'Low', 'Close', 'Volume']]\n",
    "    except Exception as e:\n",
    "        print(f\"Error for {ticker}: {e}\")\n",
    "        return None"
   ]
  },
  {
   "cell_type": "markdown",
   "id": "6dde2505-1e14-428b-9219-273ecf82921a",
   "metadata": {},
   "source": [
    "# Fetch data for all periods"
   ]
  },
  {
   "cell_type": "code",
   "execution_count": null,
   "id": "1d876a85-ded8-4a8a-8eef-99123e132b66",
   "metadata": {},
   "outputs": [],
   "source": [
    "train_data = []\n",
    "test_data = []\n",
    "forecast_data = []\n",
    "\n",
    "for ticker in tickers:\n",
    "    # Training data (2021-2023)\n",
    "    df_train = fetch_stock_data(ticker, train_start, train_end)\n",
    "    if df_train is not None:\n",
    "        train_data.append(df_train)\n",
    "    \n",
    "    # Testing data (2024)\n",
    "    df_test = fetch_stock_data(ticker, test_start, test_end)\n",
    "    if df_test is not None:\n",
    "        test_data.append(df_test)\n",
    "    \n",
    "    # Forecast data (2025 up to today)\n",
    "    df_forecast = fetch_stock_data(ticker, forecast_start, current_date)\n",
    "    if df_forecast is not None:\n",
    "        forecast_data.append(df_forecast)\n",
    "\n",
    "# Concatenate all data\n",
    "df_train_all = pd.concat(train_data, ignore_index=True) if train_data else pd.DataFrame()\n",
    "df_test_all = pd.concat(test_data, ignore_index=True) if test_data else pd.DataFrame()\n",
    "df_forecast_all = pd.concat(forecast_data, ignore_index=True) if forecast_data else pd.DataFrame()\n",
    "\n",
    "# Save to CSV files\n",
    "df_train_all.to_csv(\"stock_data_train.csv\", index=False)\n",
    "df_test_all.to_csv(\"stock_data_test.csv\", index=False)\n",
    "df_forecast_all.to_csv(\"stock_data_forecast.csv\", index=False)\n",
    "print(\"Data saved to stock_data_train.csv, stock_data_test.csv, stock_data_forecast.csv\")"
   ]
  },
  {
   "cell_type": "markdown",
   "id": "eb537592-044e-4f52-b1e0-c318136b3c44",
   "metadata": {},
   "source": [
    "# Calculate financial metrics"
   ]
  },
  {
   "cell_type": "code",
   "execution_count": null,
   "id": "3bb9844d-4d3a-450a-8655-3e1ddc18fe32",
   "metadata": {},
   "outputs": [],
   "source": [
    "def calculate_metrics(df, risk_free_rate=0.02):  # 2% annual risk-free rate\n",
    "    \"\"\"\n",
    "    Calculate volatility, Sharpe Ratio, VaR, and Expected Return.\n",
    "    Args:\n",
    "        df (pd.DataFrame): DataFrame with 'Close' and 'Date' columns\n",
    "        risk_free_rate (float): Annual risk-free rate\n",
    "    Returns:\n",
    "        dict: Metrics for the stock\n",
    "    \"\"\"\n",
    "    # Daily returns\n",
    "    df['Returns'] = df['Close'].pct_change().dropna()\n",
    "    \n",
    "    # Volatility (annualized standard deviation of daily returns)\n",
    "    volatility = df['Returns'].std() * np.sqrt(252) * 100  # Annualized in percentage\n",
    "    \n",
    "    # Sharpe Ratio (annualized return - risk-free rate) / volatility\n",
    "    annual_return = (df['Close'][-1] / df['Close'][0]) ** (252 / len(df)) - 1\n",
    "    sharpe_ratio = (annual_return - risk_free_rate) / volatility if volatility != 0 else 0\n",
    "    \n",
    "    # Value at Risk (VaR) at 95% confidence (assuming normal distribution)\n",
    "    var_95 = np.percentile(df['Returns'].dropna(), 5) * np.sqrt(21)  # 21 trading days in a month\n",
    "    var_95_dollar = var_95 * df['Close'].iloc[-1]  # In dollar terms\n",
    "    \n",
    "    # Expected Return for April 2025 (simple historical average monthly return)\n",
    "    monthly_return = df['Returns'].mean() * 21  # Approximate monthly return\n",
    "    expected_return = monthly_return * 100  # In percentage\n",
    "    \n",
    "    return {\n",
    "        'Volatility (%)': volatility,\n",
    "        'Sharpe Ratio': sharpe_ratio,\n",
    "        'VaR (95%) ($)': var_95_dollar,\n",
    "        'Expected Return (%)': expected_return\n",
    "    }\n",
    "\n",
    "# Calculate metrics for each stock using training data\n",
    "metrics_results = {}\n",
    "for ticker in tickers:\n",
    "    df_ticker = df_train_all[df_train_all['Ticker'] == ticker].copy()\n",
    "    if not df_ticker.empty:\n",
    "        metrics = calculate_metrics(df_ticker)\n",
    "        metrics_results[ticker] = metrics\n",
    "    else:\n",
    "        print(f\"No data for {ticker} to calculate metrics\")\n",
    "\n",
    "# Display metrics table\n",
    "print(\"\\nTable of Calculations:\")\n",
    "print(\"Metric\\t\\tPurpose\\t\\t\\tExample Result\")\n",
    "print(\"Volatility\\tRisk level\\t\\t{:.2f}%\".format(metrics_results.get('AAPL', {'Volatility (%)': 0})['Volatility (%)']))\n",
    "print(\"Sharpe Ratio\\tRisk-adjusted return\\t{:.2f}\".format(metrics_results.get('AAPL', {'Sharpe Ratio': 0})['Sharpe Ratio']))\n",
    "print(\"VaR (95%)\\tMax loss\\t\\t${:.2f}\".format(metrics_results.get('AAPL', {'VaR (95%) ($)': 0})['VaR (95%) ($)']))\n",
    "print(\"Expected Return\\tForecasted gain\\t\\t{:.2f}%\".format(metrics_results.get('AAPL', {'Expected Return (%)': 0})['Expected Return (%)']))"
   ]
  },
  {
   "cell_type": "markdown",
   "id": "76e0bfc5-9ed0-4fcc-9a8c-70775568a64e",
   "metadata": {},
   "source": [
    "# Prepare data for LSTM prediction"
   ]
  },
  {
   "cell_type": "code",
   "execution_count": null,
   "id": "fbdd293a-cdc6-42fe-b6dd-ba842df16f7f",
   "metadata": {},
   "outputs": [],
   "source": []
  }
 ],
 "metadata": {
  "kernelspec": {
   "display_name": "Python 3 (ipykernel)",
   "language": "python",
   "name": "python3"
  },
  "language_info": {
   "codemirror_mode": {
    "name": "ipython",
    "version": 3
   },
   "file_extension": ".py",
   "mimetype": "text/x-python",
   "name": "python",
   "nbconvert_exporter": "python",
   "pygments_lexer": "ipython3",
   "version": "3.10.12"
  }
 },
 "nbformat": 4,
 "nbformat_minor": 5
}
