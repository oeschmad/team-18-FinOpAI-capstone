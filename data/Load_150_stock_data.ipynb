{
 "cells": [
  {
   "cell_type": "code",
   "execution_count": 24,
   "id": "95d685c7-256c-41e5-a8bd-647686632d63",
   "metadata": {},
   "outputs": [],
   "source": [
    "import yfinance as yf\n",
    "import pandas as pd\n",
    "from datetime import datetime"
   ]
  },
  {
   "cell_type": "code",
   "execution_count": 25,
   "id": "465cee0f-58b6-4ece-a5e3-47d08becbab6",
   "metadata": {},
   "outputs": [],
   "source": [
    "train_start = \"2021-01-01\"\n",
    "train_end = \"2023-12-31\"\n",
    "test_start = \"2024-01-01\"\n",
    "test_end = \"2024-12-31\"\n",
    "forecast_start = \"2025-01-01\"\n",
    "forecast_end = \"2025-04-30\""
   ]
  },
  {
   "cell_type": "code",
   "execution_count": 26,
   "id": "ecac272c-a414-4c75-8e2c-4a195b0a1d35",
   "metadata": {},
   "outputs": [
    {
     "name": "stdout",
     "output_type": "stream",
     "text": [
      "Total unique tickers: 150\n",
      "First 10 tickers: ['TXN', 'ECL', 'CAT', 'BDX', 'ORCL', 'UNH', 'NEM', 'GLW', 'SNPS', 'JPM']\n"
     ]
    }
   ],
   "source": [
    "Main_tickers = [\n",
    "    'AAPL', 'MSFT', 'NVDA', 'ORCL', 'ADBE', 'CSCO', 'CRM', 'INTC', 'AMD', 'QCOM', 'TXN', 'IBM', 'NOW', 'AMAT', 'LRCX',\n",
    "    'MU', 'PANW', 'SNPS', 'JPM', 'BAC', 'WFC', 'GS', 'MS', 'C', 'BLK', 'AXP', 'SCHW', 'SPGI', 'MA', 'V', 'T', 'VZ', 'CMCSA',\n",
    "    'MMC', 'JNJ', 'LLY', 'PFE', 'MRK', 'ABBV', 'TMO', 'DHR', 'AMGN', 'GILD', 'CVS', 'UNH', 'ELV', 'CI', 'BMY', 'ZTS', 'A', 'TSLA',\n",
    "    'HD', 'MCD', 'NKE', 'SBUX', 'LOW', 'BKNG', 'TX', 'GM', 'F', 'YUM', 'EBAY', 'DHI', 'CCI', 'PG', 'KO', 'PEP', 'WBA', 'CL', 'PM',\n",
    "    'MDLZ', 'KMB', 'KHC', 'CAT', 'GPS', 'BA', 'DE', 'HON', 'UNP', 'MMM', 'GE', 'LMT', 'RTX', 'XOM', 'CVX', 'SLB', 'OXY',\n",
    "    'GOOGL', 'META', 'DIS', 'LIN', 'SHW', 'FCX', 'ECL', 'NEM', 'NEE', 'DUK', 'SO', 'AMT', 'PLD', 'GLW', 'SLV', 'GOLD', 'SCCO'\n",
    "]\n",
    "\n",
    "additional_tickers = [\n",
    "    'ACN', 'ADSK', 'ALGN', 'AMZN', 'ANSS', 'AON', 'APD', 'BDX', 'BRK.B', 'BSX', 'BWA', 'CARR', 'CHTR', 'CME', 'COF', 'COP',\n",
    "    'COST', 'CTAS', 'D', 'DD', 'DG', 'DOW', 'EMR', 'ETN', 'EXC', 'FANG', 'FDX', 'FIS', 'FITB', 'FMX', 'GD', 'GPN', 'HES', 'HLT',\n",
    "    'HON', 'HSY', 'HUM', 'ICE', 'IDXX', 'ILMN'\n",
    "]\n",
    "\n",
    "all_tickers = list(set(Main_tickers + additional_tickers))\n",
    "while len(all_tickers) < 150:\n",
    "    all_tickers.append('EXTRA')\n",
    "all_tickers = all_tickers[:150]\n",
    "print(f\"Total unique tickers: {len(all_tickers)}\")\n",
    "print(\"First 10 tickers:\", all_tickers[:10])"
   ]
  },
  {
   "cell_type": "code",
   "execution_count": 27,
   "id": "647cf8dc-0813-403a-8736-a31da240945b",
   "metadata": {},
   "outputs": [],
   "source": [
    "def fetch_yf_data(ticker, start, end):\n",
    "    try:\n",
    "        df = yf.download(ticker, start=start, end=end, progress=False, auto_adjust=True)\n",
    "        if df.empty:\n",
    "            print(f\"No data found for {ticker} in {start} to {end}\")\n",
    "            return None\n",
    "        df = df.reset_index()\n",
    "        df['Ticker'] = ticker\n",
    "        df['Date'] = df['Date'].dt.strftime('%Y-%m-%d')\n",
    "        # Check if DataFrame has any valid data (at least 1 row)\n",
    "        if len(df) > 0:\n",
    "            return df[['Date', 'Ticker', 'Open', 'High', 'Low', 'Close', 'Volume']]\n",
    "        else:\n",
    "            print(f\"No valid data rows for {ticker}\")\n",
    "            return None\n",
    "    except Exception as e:\n",
    "        print(f\"Error for {ticker}: {e}\")\n",
    "        return None"
   ]
  },
  {
   "cell_type": "markdown",
   "id": "4bfffa8f-e136-4160-8201-512e3865eb46",
   "metadata": {},
   "source": [
    "# Fetch training data (2021-2023)"
   ]
  },
  {
   "cell_type": "code",
   "execution_count": 28,
   "id": "fa0e1dd2-c494-4711-baf8-a2560d0ebac3",
   "metadata": {},
   "outputs": [
    {
     "name": "stderr",
     "output_type": "stream",
     "text": [
      "\n",
      "1 Failed download:\n",
      "['BRK.B']: YFTzMissingError('possibly delisted; no timezone found')\n"
     ]
    },
    {
     "name": "stdout",
     "output_type": "stream",
     "text": [
      "No data found for BRK.B in 2021-01-01 to 2023-12-31\n"
     ]
    },
    {
     "name": "stderr",
     "output_type": "stream",
     "text": [
      "\n",
      "1 Failed download:\n",
      "['GPS']: YFTzMissingError('possibly delisted; no timezone found')\n"
     ]
    },
    {
     "name": "stdout",
     "output_type": "stream",
     "text": [
      "No data found for GPS in 2021-01-01 to 2023-12-31\n"
     ]
    },
    {
     "name": "stderr",
     "output_type": "stream",
     "text": [
      "\n",
      "1 Failed download:\n",
      "['EXTRA']: YFTzMissingError('possibly delisted; no timezone found')\n",
      "\n",
      "1 Failed download:\n",
      "['EXTRA']: YFTzMissingError('possibly delisted; no timezone found')\n",
      "\n",
      "1 Failed download:\n",
      "['EXTRA']: YFTzMissingError('possibly delisted; no timezone found')\n",
      "\n",
      "1 Failed download:\n",
      "['EXTRA']: YFTzMissingError('possibly delisted; no timezone found')\n",
      "\n",
      "1 Failed download:\n",
      "['EXTRA']: YFTzMissingError('possibly delisted; no timezone found')\n",
      "\n",
      "1 Failed download:\n",
      "['EXTRA']: YFTzMissingError('possibly delisted; no timezone found')\n",
      "\n",
      "1 Failed download:\n",
      "['EXTRA']: YFTzMissingError('possibly delisted; no timezone found')\n"
     ]
    },
    {
     "name": "stdout",
     "output_type": "stream",
     "text": [
      "No data found for EXTRA in 2021-01-01 to 2023-12-31\n",
      "No data found for EXTRA in 2021-01-01 to 2023-12-31\n",
      "No data found for EXTRA in 2021-01-01 to 2023-12-31\n",
      "No data found for EXTRA in 2021-01-01 to 2023-12-31\n",
      "No data found for EXTRA in 2021-01-01 to 2023-12-31\n",
      "No data found for EXTRA in 2021-01-01 to 2023-12-31\n",
      "No data found for EXTRA in 2021-01-01 to 2023-12-31\n",
      "Training data saved to stock_data_train.csv\n",
      "Failed tickers (training): 9/150\n",
      "Successful tickers: 141\n"
     ]
    }
   ],
   "source": [
    "train_data = []\n",
    "failed_tickers_train = []\n",
    "for ticker in all_tickers:\n",
    "    df = fetch_yf_data(ticker, train_start, train_end)\n",
    "    if df is not None:\n",
    "        train_data.append(df)\n",
    "    else:\n",
    "        failed_tickers_train.append(ticker)\n",
    "df_train = pd.concat(train_data, ignore_index=True) if train_data else pd.DataFrame()\n",
    "df_train.to_csv(\"stock_data_train.csv\", index=False)\n",
    "print(\"Training data saved to stock_data_train.csv\")\n",
    "print(f\"Failed tickers (training): {len(failed_tickers_train)}/{len(all_tickers)}\")\n",
    "print(f\"Successful tickers: {len(train_data)}\")"
   ]
  },
  {
   "cell_type": "markdown",
   "id": "0be55189-36e8-4fb5-97a3-c0bdf7beea36",
   "metadata": {},
   "source": [
    "# Fetch testing data (2024)"
   ]
  },
  {
   "cell_type": "code",
   "execution_count": 29,
   "id": "01de0a98-7bc7-405b-861a-50f98a86b025",
   "metadata": {},
   "outputs": [
    {
     "name": "stderr",
     "output_type": "stream",
     "text": [
      "\n",
      "1 Failed download:\n",
      "['BRK.B']: YFTzMissingError('possibly delisted; no timezone found')\n"
     ]
    },
    {
     "name": "stdout",
     "output_type": "stream",
     "text": [
      "No data found for BRK.B in 2024-01-01 to 2024-12-31\n"
     ]
    },
    {
     "name": "stderr",
     "output_type": "stream",
     "text": [
      "\n",
      "1 Failed download:\n",
      "['GPS']: YFTzMissingError('possibly delisted; no timezone found')\n"
     ]
    },
    {
     "name": "stdout",
     "output_type": "stream",
     "text": [
      "No data found for GPS in 2024-01-01 to 2024-12-31\n"
     ]
    },
    {
     "name": "stderr",
     "output_type": "stream",
     "text": [
      "\n",
      "1 Failed download:\n",
      "['EXTRA']: YFTzMissingError('possibly delisted; no timezone found')\n",
      "\n",
      "1 Failed download:\n",
      "['EXTRA']: YFTzMissingError('possibly delisted; no timezone found')\n",
      "\n",
      "1 Failed download:\n",
      "['EXTRA']: YFTzMissingError('possibly delisted; no timezone found')\n",
      "\n",
      "1 Failed download:\n",
      "['EXTRA']: YFTzMissingError('possibly delisted; no timezone found')\n",
      "\n",
      "1 Failed download:\n",
      "['EXTRA']: YFTzMissingError('possibly delisted; no timezone found')\n",
      "\n",
      "1 Failed download:\n",
      "['EXTRA']: YFTzMissingError('possibly delisted; no timezone found')\n",
      "\n",
      "1 Failed download:\n",
      "['EXTRA']: YFTzMissingError('possibly delisted; no timezone found')\n"
     ]
    },
    {
     "name": "stdout",
     "output_type": "stream",
     "text": [
      "No data found for EXTRA in 2024-01-01 to 2024-12-31\n",
      "No data found for EXTRA in 2024-01-01 to 2024-12-31\n",
      "No data found for EXTRA in 2024-01-01 to 2024-12-31\n",
      "No data found for EXTRA in 2024-01-01 to 2024-12-31\n",
      "No data found for EXTRA in 2024-01-01 to 2024-12-31\n",
      "No data found for EXTRA in 2024-01-01 to 2024-12-31\n",
      "No data found for EXTRA in 2024-01-01 to 2024-12-31\n",
      "Testing data saved to stock_data_test.csv\n",
      "Failed tickers (testing): 9/150\n",
      "Successful tickers: 141\n"
     ]
    }
   ],
   "source": [
    "test_data = []\n",
    "failed_tickers_test = []\n",
    "for ticker in all_tickers:\n",
    "    df = fetch_yf_data(ticker, test_start, test_end)\n",
    "    if df is not None:\n",
    "        test_data.append(df)\n",
    "    else:\n",
    "        failed_tickers_test.append(ticker)\n",
    "df_test = pd.concat(test_data, ignore_index=True) if test_data else pd.DataFrame()\n",
    "df_test.to_csv(\"stock_data_test.csv\", index=False)\n",
    "print(\"Testing data saved to stock_data_test.csv\")\n",
    "print(f\"Failed tickers (testing): {len(failed_tickers_test)}/{len(all_tickers)}\")\n",
    "print(f\"Successful tickers: {len(test_data)}\")"
   ]
  },
  {
   "cell_type": "markdown",
   "id": "7cc92716-f4ba-4c83-8057-561a6934d1e6",
   "metadata": {},
   "source": [
    "# Fetch forecast data (2025 up to today)"
   ]
  },
  {
   "cell_type": "code",
   "execution_count": 30,
   "id": "f5d840ac-f92b-4d69-82c8-03f7fbe9a477",
   "metadata": {},
   "outputs": [
    {
     "name": "stderr",
     "output_type": "stream",
     "text": [
      "\n",
      "1 Failed download:\n",
      "['BRK.B']: YFTzMissingError('possibly delisted; no timezone found')\n"
     ]
    },
    {
     "name": "stdout",
     "output_type": "stream",
     "text": [
      "No data found for BRK.B in 2025-01-01 to 2025-04-08\n"
     ]
    },
    {
     "name": "stderr",
     "output_type": "stream",
     "text": [
      "\n",
      "1 Failed download:\n",
      "['GPS']: YFTzMissingError('possibly delisted; no timezone found')\n"
     ]
    },
    {
     "name": "stdout",
     "output_type": "stream",
     "text": [
      "No data found for GPS in 2025-01-01 to 2025-04-08\n"
     ]
    },
    {
     "name": "stderr",
     "output_type": "stream",
     "text": [
      "\n",
      "1 Failed download:\n",
      "['EXTRA']: YFTzMissingError('possibly delisted; no timezone found')\n",
      "\n",
      "1 Failed download:\n",
      "['EXTRA']: YFTzMissingError('possibly delisted; no timezone found')\n",
      "\n",
      "1 Failed download:\n",
      "['EXTRA']: YFTzMissingError('possibly delisted; no timezone found')\n",
      "\n",
      "1 Failed download:\n",
      "['EXTRA']: YFTzMissingError('possibly delisted; no timezone found')\n",
      "\n",
      "1 Failed download:\n",
      "['EXTRA']: YFTzMissingError('possibly delisted; no timezone found')\n",
      "\n",
      "1 Failed download:\n",
      "['EXTRA']: YFTzMissingError('possibly delisted; no timezone found')\n",
      "\n",
      "1 Failed download:\n",
      "['EXTRA']: YFTzMissingError('possibly delisted; no timezone found')\n"
     ]
    },
    {
     "name": "stdout",
     "output_type": "stream",
     "text": [
      "No data found for EXTRA in 2025-01-01 to 2025-04-08\n",
      "No data found for EXTRA in 2025-01-01 to 2025-04-08\n",
      "No data found for EXTRA in 2025-01-01 to 2025-04-08\n",
      "No data found for EXTRA in 2025-01-01 to 2025-04-08\n",
      "No data found for EXTRA in 2025-01-01 to 2025-04-08\n",
      "No data found for EXTRA in 2025-01-01 to 2025-04-08\n",
      "No data found for EXTRA in 2025-01-01 to 2025-04-08\n",
      "Forecast data saved to stock_data_forecast.csv (up to 2025-04-08)\n",
      "Failed tickers (forecast): 9/150\n",
      "Successful tickers: 141\n"
     ]
    }
   ],
   "source": [
    "forecast_data = []\n",
    "failed_tickers_forecast = []\n",
    "current_date = datetime.today().strftime('%Y-%m-%d')  # April 7, 2025\n",
    "for ticker in all_tickers:\n",
    "    df = fetch_yf_data(ticker, forecast_start, current_date)\n",
    "    if df is not None:\n",
    "        forecast_data.append(df)\n",
    "    else:\n",
    "        failed_tickers_forecast.append(ticker)\n",
    "df_forecast = pd.concat(forecast_data, ignore_index=True) if forecast_data else pd.DataFrame()\n",
    "df_forecast.to_csv(\"stock_data_forecast.csv\", index=False)\n",
    "print(f\"Forecast data saved to stock_data_forecast.csv (up to {current_date})\")\n",
    "print(f\"Failed tickers (forecast): {len(failed_tickers_forecast)}/{len(all_tickers)}\")\n",
    "print(f\"Successful tickers: {len(forecast_data)}\")"
   ]
  },
  {
   "cell_type": "code",
   "execution_count": null,
   "id": "7c46611e-186a-4e2c-9bcd-ca2a8501b6d6",
   "metadata": {},
   "outputs": [],
   "source": []
  }
 ],
 "metadata": {
  "kernelspec": {
   "display_name": "Python 3 (ipykernel)",
   "language": "python",
   "name": "python3"
  },
  "language_info": {
   "codemirror_mode": {
    "name": "ipython",
    "version": 3
   },
   "file_extension": ".py",
   "mimetype": "text/x-python",
   "name": "python",
   "nbconvert_exporter": "python",
   "pygments_lexer": "ipython3",
   "version": "3.10.12"
  }
 },
 "nbformat": 4,
 "nbformat_minor": 5
}
